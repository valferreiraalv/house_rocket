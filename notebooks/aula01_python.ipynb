{
 "cells": [
  {
   "cell_type": "markdown",
   "id": "78869609",
   "metadata": {},
   "source": [
    "# 0. Loading data"
   ]
  },
  {
   "cell_type": "code",
   "execution_count": 1,
   "id": "d1655a79",
   "metadata": {
    "ExecuteTime": {
     "end_time": "2022-11-16T22:37:32.560378Z",
     "start_time": "2022-11-16T22:37:27.456914Z"
    }
   },
   "outputs": [],
   "source": [
    "import pandas as pd\n",
    "import statistics\n",
    "import math\n",
    "from scipy import stats\n",
    "import numpy as np\n",
    "from collections import Counter"
   ]
  },
  {
   "cell_type": "code",
   "execution_count": 2,
   "id": "6ba014b3",
   "metadata": {
    "ExecuteTime": {
     "end_time": "2022-11-16T22:37:32.686070Z",
     "start_time": "2022-11-16T22:37:32.563505Z"
    }
   },
   "outputs": [],
   "source": [
    "data = pd.read_csv(r'C:\\Users\\ferki\\repos\\python_zero_ao_ds\\datasets\\kc_house_data.csv')"
   ]
  },
  {
   "cell_type": "markdown",
   "id": "52a9d169",
   "metadata": {
    "ExecuteTime": {
     "end_time": "2022-11-14T19:21:57.380947Z",
     "start_time": "2022-11-14T19:21:57.346164Z"
    }
   },
   "source": [
    "## 1. Quantas casas estão disponíveis para compra?"
   ]
  },
  {
   "cell_type": "code",
   "execution_count": 3,
   "id": "70be6599",
   "metadata": {
    "ExecuteTime": {
     "end_time": "2022-11-16T22:37:32.844984Z",
     "start_time": "2022-11-16T22:37:32.689734Z"
    }
   },
   "outputs": [
    {
     "data": {
      "text/html": [
       "<div>\n",
       "<style scoped>\n",
       "    .dataframe tbody tr th:only-of-type {\n",
       "        vertical-align: middle;\n",
       "    }\n",
       "\n",
       "    .dataframe tbody tr th {\n",
       "        vertical-align: top;\n",
       "    }\n",
       "\n",
       "    .dataframe thead th {\n",
       "        text-align: right;\n",
       "    }\n",
       "</style>\n",
       "<table border=\"1\" class=\"dataframe\">\n",
       "  <thead>\n",
       "    <tr style=\"text-align: right;\">\n",
       "      <th></th>\n",
       "      <th>id</th>\n",
       "      <th>date</th>\n",
       "      <th>price</th>\n",
       "      <th>bedrooms</th>\n",
       "      <th>bathrooms</th>\n",
       "      <th>sqft_living</th>\n",
       "      <th>sqft_lot</th>\n",
       "      <th>floors</th>\n",
       "      <th>waterfront</th>\n",
       "      <th>view</th>\n",
       "      <th>...</th>\n",
       "      <th>grade</th>\n",
       "      <th>sqft_above</th>\n",
       "      <th>sqft_basement</th>\n",
       "      <th>yr_built</th>\n",
       "      <th>yr_renovated</th>\n",
       "      <th>zipcode</th>\n",
       "      <th>lat</th>\n",
       "      <th>long</th>\n",
       "      <th>sqft_living15</th>\n",
       "      <th>sqft_lot15</th>\n",
       "    </tr>\n",
       "  </thead>\n",
       "  <tbody>\n",
       "    <tr>\n",
       "      <th>0</th>\n",
       "      <td>7129300520</td>\n",
       "      <td>20141013T000000</td>\n",
       "      <td>221900.0</td>\n",
       "      <td>3</td>\n",
       "      <td>1.00</td>\n",
       "      <td>1180</td>\n",
       "      <td>5650</td>\n",
       "      <td>1.0</td>\n",
       "      <td>0</td>\n",
       "      <td>0</td>\n",
       "      <td>...</td>\n",
       "      <td>7</td>\n",
       "      <td>1180.0</td>\n",
       "      <td>0</td>\n",
       "      <td>1955</td>\n",
       "      <td>0</td>\n",
       "      <td>98178</td>\n",
       "      <td>47.5112</td>\n",
       "      <td>-122.257</td>\n",
       "      <td>1340</td>\n",
       "      <td>5650</td>\n",
       "    </tr>\n",
       "    <tr>\n",
       "      <th>1</th>\n",
       "      <td>6414100192</td>\n",
       "      <td>20141209T000000</td>\n",
       "      <td>538000.0</td>\n",
       "      <td>3</td>\n",
       "      <td>2.25</td>\n",
       "      <td>2570</td>\n",
       "      <td>7242</td>\n",
       "      <td>2.0</td>\n",
       "      <td>0</td>\n",
       "      <td>0</td>\n",
       "      <td>...</td>\n",
       "      <td>7</td>\n",
       "      <td>2170.0</td>\n",
       "      <td>400</td>\n",
       "      <td>1951</td>\n",
       "      <td>1991</td>\n",
       "      <td>98125</td>\n",
       "      <td>47.7210</td>\n",
       "      <td>-122.319</td>\n",
       "      <td>1690</td>\n",
       "      <td>7639</td>\n",
       "    </tr>\n",
       "    <tr>\n",
       "      <th>2</th>\n",
       "      <td>5631500400</td>\n",
       "      <td>20150225T000000</td>\n",
       "      <td>180000.0</td>\n",
       "      <td>2</td>\n",
       "      <td>1.00</td>\n",
       "      <td>770</td>\n",
       "      <td>10000</td>\n",
       "      <td>1.0</td>\n",
       "      <td>0</td>\n",
       "      <td>0</td>\n",
       "      <td>...</td>\n",
       "      <td>6</td>\n",
       "      <td>770.0</td>\n",
       "      <td>0</td>\n",
       "      <td>1933</td>\n",
       "      <td>0</td>\n",
       "      <td>98028</td>\n",
       "      <td>47.7379</td>\n",
       "      <td>-122.233</td>\n",
       "      <td>2720</td>\n",
       "      <td>8062</td>\n",
       "    </tr>\n",
       "    <tr>\n",
       "      <th>3</th>\n",
       "      <td>2487200875</td>\n",
       "      <td>20141209T000000</td>\n",
       "      <td>604000.0</td>\n",
       "      <td>4</td>\n",
       "      <td>3.00</td>\n",
       "      <td>1960</td>\n",
       "      <td>5000</td>\n",
       "      <td>1.0</td>\n",
       "      <td>0</td>\n",
       "      <td>0</td>\n",
       "      <td>...</td>\n",
       "      <td>7</td>\n",
       "      <td>1050.0</td>\n",
       "      <td>910</td>\n",
       "      <td>1965</td>\n",
       "      <td>0</td>\n",
       "      <td>98136</td>\n",
       "      <td>47.5208</td>\n",
       "      <td>-122.393</td>\n",
       "      <td>1360</td>\n",
       "      <td>5000</td>\n",
       "    </tr>\n",
       "    <tr>\n",
       "      <th>4</th>\n",
       "      <td>1954400510</td>\n",
       "      <td>20150218T000000</td>\n",
       "      <td>510000.0</td>\n",
       "      <td>3</td>\n",
       "      <td>2.00</td>\n",
       "      <td>1680</td>\n",
       "      <td>8080</td>\n",
       "      <td>1.0</td>\n",
       "      <td>0</td>\n",
       "      <td>0</td>\n",
       "      <td>...</td>\n",
       "      <td>8</td>\n",
       "      <td>1680.0</td>\n",
       "      <td>0</td>\n",
       "      <td>1987</td>\n",
       "      <td>0</td>\n",
       "      <td>98074</td>\n",
       "      <td>47.6168</td>\n",
       "      <td>-122.045</td>\n",
       "      <td>1800</td>\n",
       "      <td>7503</td>\n",
       "    </tr>\n",
       "  </tbody>\n",
       "</table>\n",
       "<p>5 rows × 21 columns</p>\n",
       "</div>"
      ],
      "text/plain": [
       "           id             date     price  bedrooms  bathrooms  sqft_living  \\\n",
       "0  7129300520  20141013T000000  221900.0         3       1.00         1180   \n",
       "1  6414100192  20141209T000000  538000.0         3       2.25         2570   \n",
       "2  5631500400  20150225T000000  180000.0         2       1.00          770   \n",
       "3  2487200875  20141209T000000  604000.0         4       3.00         1960   \n",
       "4  1954400510  20150218T000000  510000.0         3       2.00         1680   \n",
       "\n",
       "   sqft_lot  floors  waterfront  view  ...  grade  sqft_above  sqft_basement  \\\n",
       "0      5650     1.0           0     0  ...      7      1180.0              0   \n",
       "1      7242     2.0           0     0  ...      7      2170.0            400   \n",
       "2     10000     1.0           0     0  ...      6       770.0              0   \n",
       "3      5000     1.0           0     0  ...      7      1050.0            910   \n",
       "4      8080     1.0           0     0  ...      8      1680.0              0   \n",
       "\n",
       "   yr_built  yr_renovated  zipcode      lat     long  sqft_living15  \\\n",
       "0      1955             0    98178  47.5112 -122.257           1340   \n",
       "1      1951          1991    98125  47.7210 -122.319           1690   \n",
       "2      1933             0    98028  47.7379 -122.233           2720   \n",
       "3      1965             0    98136  47.5208 -122.393           1360   \n",
       "4      1987             0    98074  47.6168 -122.045           1800   \n",
       "\n",
       "   sqft_lot15  \n",
       "0        5650  \n",
       "1        7639  \n",
       "2        8062  \n",
       "3        5000  \n",
       "4        7503  \n",
       "\n",
       "[5 rows x 21 columns]"
      ]
     },
     "execution_count": 3,
     "metadata": {},
     "output_type": "execute_result"
    }
   ],
   "source": [
    "data.head()"
   ]
  },
  {
   "cell_type": "code",
   "execution_count": 4,
   "id": "e69dfeb0",
   "metadata": {
    "ExecuteTime": {
     "end_time": "2022-11-16T22:37:32.876694Z",
     "start_time": "2022-11-16T22:37:32.847985Z"
    }
   },
   "outputs": [
    {
     "data": {
      "text/plain": [
       "21436"
      ]
     },
     "execution_count": 4,
     "metadata": {},
     "output_type": "execute_result"
    }
   ],
   "source": [
    "len( data['id'].unique() ) # ou len( data['id'].drop_duplicates() )"
   ]
  },
  {
   "cell_type": "code",
   "execution_count": 5,
   "id": "a30f6f25",
   "metadata": {
    "ExecuteTime": {
     "end_time": "2022-11-16T22:37:32.892662Z",
     "start_time": "2022-11-16T22:37:32.879658Z"
    }
   },
   "outputs": [
    {
     "name": "stdout",
     "output_type": "stream",
     "text": [
      "O número de cadas disponíveis é de 21436\n"
     ]
    }
   ],
   "source": [
    "# Estratégia:\n",
    "# 1. Selecionar a coluna \"id\"\n",
    "# 2. Contar o numero de valores unicos\n",
    "\n",
    "houses = len( data['id'].unique() )\n",
    "print( 'O número de cadas disponíveis é de {}'. format ( houses ) )"
   ]
  },
  {
   "cell_type": "markdown",
   "id": "7aa4c794",
   "metadata": {},
   "source": [
    "## 2. Quantos atributos as casas possuem? ( Tamanho, preço, m2, quartos, … )?"
   ]
  },
  {
   "cell_type": "code",
   "execution_count": 6,
   "id": "56030f02",
   "metadata": {
    "ExecuteTime": {
     "end_time": "2022-11-16T22:37:32.923951Z",
     "start_time": "2022-11-16T22:37:32.896649Z"
    }
   },
   "outputs": [
    {
     "data": {
      "text/plain": [
       "21"
      ]
     },
     "execution_count": 6,
     "metadata": {},
     "output_type": "execute_result"
    }
   ],
   "source": [
    "len( data.columns )"
   ]
  },
  {
   "cell_type": "code",
   "execution_count": 7,
   "id": "3ca2a9ba",
   "metadata": {
    "ExecuteTime": {
     "end_time": "2022-11-16T22:37:32.955745Z",
     "start_time": "2022-11-16T22:37:32.927650Z"
    }
   },
   "outputs": [
    {
     "data": {
      "text/plain": [
       "19"
      ]
     },
     "execution_count": 7,
     "metadata": {},
     "output_type": "execute_result"
    }
   ],
   "source": [
    "# Estratégia:\n",
    "# 1. Transformar em uma lista\n",
    "# 2. Contar atributos\n",
    "# A coluna id e date não são atributos das casas\n",
    "\n",
    "len( data.drop( ['id','date'], axis=1 ).columns )"
   ]
  },
  {
   "cell_type": "markdown",
   "id": "4686a843",
   "metadata": {},
   "source": [
    "## 3. Quais são os atributos das casas?"
   ]
  },
  {
   "cell_type": "code",
   "execution_count": 8,
   "id": "ce97976a",
   "metadata": {
    "ExecuteTime": {
     "end_time": "2022-11-16T22:37:32.987648Z",
     "start_time": "2022-11-16T22:37:32.959650Z"
    }
   },
   "outputs": [
    {
     "data": {
      "text/plain": [
       "Index(['price', 'bedrooms', 'bathrooms', 'sqft_living', 'sqft_lot', 'floors',\n",
       "       'waterfront', 'view', 'condition', 'grade', 'sqft_above',\n",
       "       'sqft_basement', 'yr_built', 'yr_renovated', 'zipcode', 'lat', 'long',\n",
       "       'sqft_living15', 'sqft_lot15'],\n",
       "      dtype='object')"
      ]
     },
     "execution_count": 8,
     "metadata": {},
     "output_type": "execute_result"
    }
   ],
   "source": [
    "# Assumptions\n",
    "# A coluna id e date não sçao atributos das casas\n",
    "#data.drop( ['id','date'], axis=1 ).columns.tolist()\n",
    "data.drop( ['id','date'], axis=1 ).columns"
   ]
  },
  {
   "cell_type": "markdown",
   "id": "4bf5bc27",
   "metadata": {},
   "source": [
    "## 4. Qual a casa mais cara ( casa com o maior valor de venda )?"
   ]
  },
  {
   "cell_type": "code",
   "execution_count": 9,
   "id": "09f90e39",
   "metadata": {
    "ExecuteTime": {
     "end_time": "2022-11-16T22:37:33.003660Z",
     "start_time": "2022-11-16T22:37:32.990649Z"
    }
   },
   "outputs": [],
   "source": [
    "# Ordena do maior para o menor \n",
    "#data[['id','price']].sort_values('price', ascending=False ).loc[0, 'id']"
   ]
  },
  {
   "cell_type": "code",
   "execution_count": 10,
   "id": "2a020a5a",
   "metadata": {
    "ExecuteTime": {
     "end_time": "2022-11-16T22:37:33.019657Z",
     "start_time": "2022-11-16T22:37:33.009648Z"
    }
   },
   "outputs": [],
   "source": [
    "# Ordena pelo preço mais caro e reseta o index\n",
    "#data[['id','price']].sort_values('price', ascending=False ).reset_index( drop=True ).head()"
   ]
  },
  {
   "cell_type": "code",
   "execution_count": 11,
   "id": "775f576e",
   "metadata": {
    "ExecuteTime": {
     "end_time": "2022-11-16T22:37:33.066649Z",
     "start_time": "2022-11-16T22:37:33.029662Z"
    }
   },
   "outputs": [
    {
     "data": {
      "text/plain": [
       "6762700020"
      ]
     },
     "execution_count": 11,
     "metadata": {},
     "output_type": "execute_result"
    }
   ],
   "source": [
    "# Retorna o index anterior \n",
    "data[['id','price']].sort_values('price', ascending=False ).reset_index( drop=True ).loc[0, 'id']"
   ]
  },
  {
   "cell_type": "markdown",
   "id": "4d3f40e1",
   "metadata": {},
   "source": [
    "## 5. Qual a casa com o maior número de quartos?"
   ]
  },
  {
   "cell_type": "code",
   "execution_count": 12,
   "id": "159ae844",
   "metadata": {
    "ExecuteTime": {
     "end_time": "2022-11-16T22:37:33.097647Z",
     "start_time": "2022-11-16T22:37:33.070650Z"
    }
   },
   "outputs": [
    {
     "data": {
      "text/plain": [
       "2402100895"
      ]
     },
     "execution_count": 12,
     "metadata": {},
     "output_type": "execute_result"
    }
   ],
   "source": [
    "# Mostra o index da casa com maior número de quartos \n",
    "data[['id', 'bedrooms']].sort_values( 'bedrooms', ascending=False ).reset_index( drop=True ).loc[0, 'id']"
   ]
  },
  {
   "cell_type": "markdown",
   "id": "5b2fac88",
   "metadata": {},
   "source": [
    "## 6. Qual a soma total de quartos do conjunto de dados?"
   ]
  },
  {
   "cell_type": "code",
   "execution_count": 13,
   "id": "6f4c6234",
   "metadata": {
    "ExecuteTime": {
     "end_time": "2022-11-16T22:37:33.113653Z",
     "start_time": "2022-11-16T22:37:33.101649Z"
    }
   },
   "outputs": [
    {
     "data": {
      "text/plain": [
       "72854"
      ]
     },
     "execution_count": 13,
     "metadata": {},
     "output_type": "execute_result"
    }
   ],
   "source": [
    "data['bedrooms'].sum()"
   ]
  },
  {
   "cell_type": "markdown",
   "id": "9234cde0",
   "metadata": {},
   "source": [
    "## 7. Quantas casas possuem 2 banheiros?"
   ]
  },
  {
   "cell_type": "code",
   "execution_count": 14,
   "id": "3137b309",
   "metadata": {
    "ExecuteTime": {
     "end_time": "2022-11-16T22:37:33.145651Z",
     "start_time": "2022-11-16T22:37:33.118649Z"
    }
   },
   "outputs": [
    {
     "name": "stdout",
     "output_type": "stream",
     "text": [
      "O numero de casas que possuem 2 banheiros é de 1930\n"
     ]
    }
   ],
   "source": [
    "# Estratégia:\n",
    "# 1. Filtrar somente os 'id' cujo valor da coluna 'bathroom' é igual a 2\n",
    "# 2. Selecionar as colunas 'id' e bathroom'\n",
    "# 3. Contar o numero de valores da coluna 'id'\n",
    "\n",
    "houses = len( data.loc[data['bathrooms'] == 2, ['id', 'bathrooms']] )\n",
    "print( 'O numero de casas que possuem 2 banheiros é de {}'.format( houses) )"
   ]
  },
  {
   "cell_type": "markdown",
   "id": "08a71b86",
   "metadata": {},
   "source": [
    "## 8. Qual o preço médio de todas as casas no conjunto de dados?"
   ]
  },
  {
   "cell_type": "code",
   "execution_count": 15,
   "id": "f13000e3",
   "metadata": {
    "ExecuteTime": {
     "end_time": "2022-11-16T22:37:33.255648Z",
     "start_time": "2022-11-16T22:37:33.149649Z"
    }
   },
   "outputs": [
    {
     "data": {
      "text/plain": [
       "540088.14"
      ]
     },
     "execution_count": 15,
     "metadata": {},
     "output_type": "execute_result"
    }
   ],
   "source": [
    "#print(data[['id','price']].statistics.meam('price'))\n",
    "np.round( data['price'].mean(), 2 )"
   ]
  },
  {
   "cell_type": "markdown",
   "id": "9cf95038",
   "metadata": {},
   "source": [
    "## 9. Qual o preço médio de casas com 2 banheiros?"
   ]
  },
  {
   "cell_type": "code",
   "execution_count": 16,
   "id": "8be13f3b",
   "metadata": {
    "ExecuteTime": {
     "end_time": "2022-11-16T22:37:33.287653Z",
     "start_time": "2022-11-16T22:37:33.266650Z"
    }
   },
   "outputs": [
    {
     "data": {
      "text/plain": [
       "457889.72"
      ]
     },
     "execution_count": 16,
     "metadata": {},
     "output_type": "execute_result"
    }
   ],
   "source": [
    "np.round( data.loc[data['bathrooms'] == 2, 'price'].mean(), 2 )"
   ]
  },
  {
   "cell_type": "markdown",
   "id": "4b2c6abf",
   "metadata": {},
   "source": [
    "## 10. Qual o preço mínimo entre as casas com 3 quartos?"
   ]
  },
  {
   "cell_type": "code",
   "execution_count": 17,
   "id": "e7bec5b7",
   "metadata": {
    "ExecuteTime": {
     "end_time": "2022-11-16T22:37:33.318649Z",
     "start_time": "2022-11-16T22:37:33.292670Z"
    }
   },
   "outputs": [
    {
     "data": {
      "text/plain": [
       "82000.0"
      ]
     },
     "execution_count": 17,
     "metadata": {},
     "output_type": "execute_result"
    }
   ],
   "source": [
    "data.loc[data['bedrooms'] == 3, 'price'].min()"
   ]
  },
  {
   "cell_type": "code",
   "execution_count": 18,
   "id": "71ba87f5",
   "metadata": {
    "ExecuteTime": {
     "end_time": "2022-11-16T22:37:33.349652Z",
     "start_time": "2022-11-16T22:37:33.322652Z"
    }
   },
   "outputs": [
    {
     "data": {
      "text/html": [
       "<div>\n",
       "<style scoped>\n",
       "    .dataframe tbody tr th:only-of-type {\n",
       "        vertical-align: middle;\n",
       "    }\n",
       "\n",
       "    .dataframe tbody tr th {\n",
       "        vertical-align: top;\n",
       "    }\n",
       "\n",
       "    .dataframe thead th {\n",
       "        text-align: right;\n",
       "    }\n",
       "</style>\n",
       "<table border=\"1\" class=\"dataframe\">\n",
       "  <thead>\n",
       "    <tr style=\"text-align: right;\">\n",
       "      <th></th>\n",
       "      <th>id</th>\n",
       "      <th>price</th>\n",
       "    </tr>\n",
       "  </thead>\n",
       "  <tbody>\n",
       "    <tr>\n",
       "      <th>8274</th>\n",
       "      <td>3883800011</td>\n",
       "      <td>82000.0</td>\n",
       "    </tr>\n",
       "    <tr>\n",
       "      <th>13756</th>\n",
       "      <td>1788900230</td>\n",
       "      <td>86500.0</td>\n",
       "    </tr>\n",
       "    <tr>\n",
       "      <th>5866</th>\n",
       "      <td>9320900420</td>\n",
       "      <td>89000.0</td>\n",
       "    </tr>\n",
       "    <tr>\n",
       "      <th>18939</th>\n",
       "      <td>4239400300</td>\n",
       "      <td>90000.0</td>\n",
       "    </tr>\n",
       "    <tr>\n",
       "      <th>5723</th>\n",
       "      <td>1788800630</td>\n",
       "      <td>96500.0</td>\n",
       "    </tr>\n",
       "  </tbody>\n",
       "</table>\n",
       "</div>"
      ],
      "text/plain": [
       "               id    price\n",
       "8274   3883800011  82000.0\n",
       "13756  1788900230  86500.0\n",
       "5866   9320900420  89000.0\n",
       "18939  4239400300  90000.0\n",
       "5723   1788800630  96500.0"
      ]
     },
     "execution_count": 18,
     "metadata": {},
     "output_type": "execute_result"
    }
   ],
   "source": [
    "# outra maneira de fazer\n",
    "data.loc[data['bedrooms'] == 3, ['id', 'price']].sort_values('price', ascending=True ).head()"
   ]
  },
  {
   "cell_type": "markdown",
   "id": "c9035cac",
   "metadata": {},
   "source": [
    "## 11. Quantas casas possuem mais de 300 metros quadrados na sala de estar?"
   ]
  },
  {
   "cell_type": "code",
   "execution_count": 19,
   "id": "84c05710",
   "metadata": {
    "ExecuteTime": {
     "end_time": "2022-11-16T22:37:33.365647Z",
     "start_time": "2022-11-16T22:37:33.352650Z"
    }
   },
   "outputs": [
    {
     "data": {
      "text/plain": [
       "2258"
      ]
     },
     "execution_count": 19,
     "metadata": {},
     "output_type": "execute_result"
    }
   ],
   "source": [
    "data['m²'] = data['sqft_living'] * 0.093\n",
    "\n",
    "len( data.loc[data['m²'] > 300, 'id'] )\n"
   ]
  },
  {
   "cell_type": "markdown",
   "id": "778f8a86",
   "metadata": {},
   "source": [
    "## 12. Quantas casas tem mais de 2 andares?"
   ]
  },
  {
   "cell_type": "code",
   "execution_count": 20,
   "id": "211b10dc",
   "metadata": {
    "ExecuteTime": {
     "end_time": "2022-11-16T22:37:33.397648Z",
     "start_time": "2022-11-16T22:37:33.368650Z"
    }
   },
   "outputs": [
    {
     "data": {
      "text/plain": [
       "782"
      ]
     },
     "execution_count": 20,
     "metadata": {},
     "output_type": "execute_result"
    }
   ],
   "source": [
    "data.loc[data['floors'] > 2, 'id'].size"
   ]
  },
  {
   "cell_type": "code",
   "execution_count": 21,
   "id": "a6fb1641",
   "metadata": {
    "ExecuteTime": {
     "end_time": "2022-11-16T22:37:33.413648Z",
     "start_time": "2022-11-16T22:37:33.402649Z"
    }
   },
   "outputs": [
    {
     "data": {
      "text/plain": [
       "782"
      ]
     },
     "execution_count": 21,
     "metadata": {},
     "output_type": "execute_result"
    }
   ],
   "source": [
    "# outra maneira de fazer\n",
    "len( data.loc[data['floors'] > 2, 'id'] )"
   ]
  },
  {
   "cell_type": "markdown",
   "id": "3df36803",
   "metadata": {},
   "source": [
    "## 13. Quantas casas tem vista para o mar?"
   ]
  },
  {
   "cell_type": "code",
   "execution_count": 22,
   "id": "bc7bb231",
   "metadata": {
    "ExecuteTime": {
     "end_time": "2022-11-16T22:37:33.444649Z",
     "start_time": "2022-11-16T22:37:33.416651Z"
    }
   },
   "outputs": [
    {
     "data": {
      "text/plain": [
       "163"
      ]
     },
     "execution_count": 22,
     "metadata": {},
     "output_type": "execute_result"
    }
   ],
   "source": [
    "len( data.loc[data['waterfront'] == 1, 'id'] )"
   ]
  },
  {
   "cell_type": "markdown",
   "id": "a536701b",
   "metadata": {},
   "source": [
    "## 14. Das casas com vista para o mar, quantas tem 3 quartos?"
   ]
  },
  {
   "cell_type": "code",
   "execution_count": 23,
   "id": "b87ca17e",
   "metadata": {
    "ExecuteTime": {
     "end_time": "2022-11-16T22:37:33.475649Z",
     "start_time": "2022-11-16T22:37:33.449652Z"
    }
   },
   "outputs": [
    {
     "data": {
      "text/plain": [
       "64"
      ]
     },
     "execution_count": 23,
     "metadata": {},
     "output_type": "execute_result"
    }
   ],
   "source": [
    "len( data.loc[ (data['waterfront'] == 1 ) & ( data['bedrooms'] ==3 ), 'id'] )"
   ]
  },
  {
   "cell_type": "markdown",
   "id": "23fc120d",
   "metadata": {},
   "source": [
    "## 15. Das casas com mais de 300 metros quadrados de sala de estar, quantas tem mais de 2 banheiros?"
   ]
  },
  {
   "cell_type": "code",
   "execution_count": 24,
   "id": "a7911134",
   "metadata": {
    "ExecuteTime": {
     "end_time": "2022-11-16T22:37:33.507657Z",
     "start_time": "2022-11-16T22:37:33.481649Z"
    }
   },
   "outputs": [
    {
     "data": {
      "text/plain": [
       "2201"
      ]
     },
     "execution_count": 24,
     "metadata": {},
     "output_type": "execute_result"
    }
   ],
   "source": [
    "len(data.loc[(data['m²'] > 300) & ( data['bathrooms'] > 2 ), 'id'] )"
   ]
  }
 ],
 "metadata": {
  "kernelspec": {
   "display_name": "Python 3 (ipykernel)",
   "language": "python",
   "name": "python3"
  },
  "language_info": {
   "codemirror_mode": {
    "name": "ipython",
    "version": 3
   },
   "file_extension": ".py",
   "mimetype": "text/x-python",
   "name": "python",
   "nbconvert_exporter": "python",
   "pygments_lexer": "ipython3",
   "version": "3.8.13"
  }
 },
 "nbformat": 4,
 "nbformat_minor": 5
}
